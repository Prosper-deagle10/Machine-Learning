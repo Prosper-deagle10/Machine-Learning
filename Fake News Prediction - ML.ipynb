{
 "cells": [
  {
   "cell_type": "markdown",
   "id": "10a3dcfd",
   "metadata": {},
   "source": [
    "# Fake News Prediction - ML"
   ]
  },
  {
   "cell_type": "markdown",
   "id": "0a2e7c87",
   "metadata": {},
   "source": [
    "#### About the Dataset:\n",
    "\n",
    "1. id: unique id for a news article\n",
    "2. title: the title of a news article\n",
    "3. author: author of the news article\n",
    "4. text: the text of the article; could be incomplete\n",
    "5. label: a label that marks whether the news article is real or fake\n",
    "\n",
    "\n",
    "1: Fake News\n",
    "\n",
    "0: Real News"
   ]
  },
  {
   "cell_type": "code",
   "execution_count": 1,
   "id": "55b14321",
   "metadata": {},
   "outputs": [],
   "source": [
    "#Section 1\n",
    "#Importing the Dependencies\n",
    "\n",
    "import numpy as np\n",
    "import pandas as pd\n",
    "import seaborn as sns\n",
    "import matplotlib.pyplot as plt\n",
    "import re\n",
    "from nltk.corpus import stopwords\n",
    "from nltk.stem.porter import PorterStemmer\n",
    "from sklearn.feature_extraction.text import TfidfVectorizer\n",
    "from sklearn.model_selection import train_test_split\n",
    "from sklearn.linear_model import LogisticRegression\n",
    "from sklearn.metrics import accuracy_score"
   ]
  },
  {
   "cell_type": "code",
   "execution_count": 3,
   "id": "8791e346",
   "metadata": {},
   "outputs": [
    {
     "name": "stdout",
     "output_type": "stream",
     "text": [
      "   Unnamed: 0                                              title  \\\n",
      "0           0  LAW ENFORCEMENT ON HIGH ALERT Following Threat...   \n",
      "1           1                                                NaN   \n",
      "2           2  UNBELIEVABLE! OBAMA’S ATTORNEY GENERAL SAYS MO...   \n",
      "3           3  Bobby Jindal, raised Hindu, uses story of Chri...   \n",
      "4           4  SATAN 2: Russia unvelis an image of its terrif...   \n",
      "\n",
      "                                                text  label  \n",
      "0  No comment is expected from Barack Obama Membe...      1  \n",
      "1     Did they post their votes for Hillary already?      1  \n",
      "2   Now, most of the demonstrators gathered last ...      1  \n",
      "3  A dozen politically active pastors came here f...      0  \n",
      "4  The RS-28 Sarmat missile, dubbed Satan 2, will...      1  \n",
      "<class 'pandas.core.frame.DataFrame'>\n",
      "RangeIndex: 72134 entries, 0 to 72133\n",
      "Data columns (total 4 columns):\n",
      " #   Column      Non-Null Count  Dtype \n",
      "---  ------      --------------  ----- \n",
      " 0   Unnamed: 0  72134 non-null  int64 \n",
      " 1   title       71576 non-null  object\n",
      " 2   text        72095 non-null  object\n",
      " 3   label       72134 non-null  int64 \n",
      "dtypes: int64(2), object(2)\n",
      "memory usage: 2.2+ MB\n",
      "None\n",
      "1    37106\n",
      "0    35028\n",
      "Name: label, dtype: int64\n"
     ]
    }
   ],
   "source": [
    "#Section 2 : Data Loading and Overview\n",
    "\n",
    "import pandas as pd\n",
    "\n",
    "# Load the dataset\n",
    "df = pd.read_csv(r'C:\\Users\\ACER\\Desktop\\Excel Files\\Fake_Dataset.csv')\n",
    "\n",
    "# Display the first few rows and column information\n",
    "print(df.head())\n",
    "print(df.info())\n",
    "print(df['label'].value_counts())  # Check the distribution of the target variable"
   ]
  },
  {
   "cell_type": "code",
   "execution_count": 6,
   "id": "e04aa973",
   "metadata": {},
   "outputs": [
    {
     "name": "stderr",
     "output_type": "stream",
     "text": [
      "[nltk_data] Downloading package stopwords to\n",
      "[nltk_data]     C:\\Users\\ACER\\AppData\\Roaming\\nltk_data...\n",
      "[nltk_data]   Unzipping corpora\\stopwords.zip.\n"
     ]
    },
    {
     "data": {
      "text/plain": [
       "True"
      ]
     },
     "execution_count": 6,
     "metadata": {},
     "output_type": "execute_result"
    }
   ],
   "source": [
    "import nltk\n",
    "nltk.download('stopwords')"
   ]
  },
  {
   "cell_type": "code",
   "execution_count": 7,
   "id": "e04a3c8a",
   "metadata": {},
   "outputs": [
    {
     "name": "stdout",
     "output_type": "stream",
     "text": [
      "['i', 'me', 'my', 'myself', 'we', 'our', 'ours', 'ourselves', 'you', \"you're\", \"you've\", \"you'll\", \"you'd\", 'your', 'yours', 'yourself', 'yourselves', 'he', 'him', 'his', 'himself', 'she', \"she's\", 'her', 'hers', 'herself', 'it', \"it's\", 'its', 'itself', 'they', 'them', 'their', 'theirs', 'themselves', 'what', 'which', 'who', 'whom', 'this', 'that', \"that'll\", 'these', 'those', 'am', 'is', 'are', 'was', 'were', 'be', 'been', 'being', 'have', 'has', 'had', 'having', 'do', 'does', 'did', 'doing', 'a', 'an', 'the', 'and', 'but', 'if', 'or', 'because', 'as', 'until', 'while', 'of', 'at', 'by', 'for', 'with', 'about', 'against', 'between', 'into', 'through', 'during', 'before', 'after', 'above', 'below', 'to', 'from', 'up', 'down', 'in', 'out', 'on', 'off', 'over', 'under', 'again', 'further', 'then', 'once', 'here', 'there', 'when', 'where', 'why', 'how', 'all', 'any', 'both', 'each', 'few', 'more', 'most', 'other', 'some', 'such', 'no', 'nor', 'not', 'only', 'own', 'same', 'so', 'than', 'too', 'very', 's', 't', 'can', 'will', 'just', 'don', \"don't\", 'should', \"should've\", 'now', 'd', 'll', 'm', 'o', 're', 've', 'y', 'ain', 'aren', \"aren't\", 'couldn', \"couldn't\", 'didn', \"didn't\", 'doesn', \"doesn't\", 'hadn', \"hadn't\", 'hasn', \"hasn't\", 'haven', \"haven't\", 'isn', \"isn't\", 'ma', 'mightn', \"mightn't\", 'mustn', \"mustn't\", 'needn', \"needn't\", 'shan', \"shan't\", 'shouldn', \"shouldn't\", 'wasn', \"wasn't\", 'weren', \"weren't\", 'won', \"won't\", 'wouldn', \"wouldn't\"]\n"
     ]
    }
   ],
   "source": [
    "# printing the stopwords in English\n",
    "print(stopwords.words('english'))"
   ]
  },
  {
   "cell_type": "code",
   "execution_count": 12,
   "id": "452be47c",
   "metadata": {},
   "outputs": [
    {
     "data": {
      "image/png": "[encoded data removed]",
      "text/plain": [
       "<Figure size 640x480 with 1 Axes>"
      ]
     },
     "metadata": {},
     "output_type": "display_data"
    }
   ],
   "source": [
    "#Section 3: EDA(Exploratory Data Analysis)\n",
    "\n",
    "# Add a text length column\n",
    "df['text_length'] = df['text'].fillna('').str.len()\n",
    "\n",
    "# Plot the distribution of text lengths\n",
    "sns.histplot(data=df, x='text_length', hue='label', bins=50, kde=True)\n",
    "plt.title('Distribution of Text Length by Label')\n",
    "plt.xlabel('Text Length')\n",
    "plt.ylabel('Frequency')\n",
    "plt.show()"
   ]
  },
  {
   "cell_type": "code",
   "execution_count": 14,
   "id": "25c40716",
   "metadata": {
    "scrolled": true
   },
   "outputs": [
    {
     "name": "stdout",
     "output_type": "stream",
     "text": [
      "Collecting wordcloud\n",
      "  Obtaining dependency information for wordcloud from https://files.pythonhosted.org/packages/00/09/abb305dce85911b8fba382926cfc57f2f257729e25937fdcc63f3a1a67f9/wordcloud-1.9.4-cp311-cp311-win_amd64.whl.metadata\n",
      "  Downloading wordcloud-1.9.4-cp311-cp311-win_amd64.whl.metadata (3.5 kB)\n",
      "Requirement already satisfied: numpy>=1.6.1 in c:\\users\\acer\\anaconda3\\lib\\site-packages (from wordcloud) (1.24.3)\n",
      "Requirement already satisfied: pillow in c:\\users\\acer\\anaconda3\\lib\\site-packages (from wordcloud) (9.4.0)\n",
      "Requirement already satisfied: matplotlib in c:\\users\\acer\\anaconda3\\lib\\site-packages (from wordcloud) (3.7.1)\n",
      "Requirement already satisfied: contourpy>=1.0.1 in c:\\users\\acer\\anaconda3\\lib\\site-packages (from matplotlib->wordcloud) (1.0.5)\n",
      "Requirement already satisfied: cycler>=0.10 in c:\\users\\acer\\anaconda3\\lib\\site-packages (from matplotlib->wordcloud) (0.11.0)\n",
      "Requirement already satisfied: fonttools>=4.22.0 in c:\\users\\acer\\anaconda3\\lib\\site-packages (from matplotlib->wordcloud) (4.25.0)\n",
      "Requirement already satisfied: kiwisolver>=1.0.1 in c:\\users\\acer\\anaconda3\\lib\\site-packages (from matplotlib->wordcloud) (1.4.4)\n",
      "Requirement already satisfied: packaging>=20.0 in c:\\users\\acer\\anaconda3\\lib\\site-packages (from matplotlib->wordcloud) (23.0)\n",
      "Requirement already satisfied: pyparsing>=2.3.1 in c:\\users\\acer\\anaconda3\\lib\\site-packages (from matplotlib->wordcloud) (3.0.9)\n",
      "Requirement already satisfied: python-dateutil>=2.7 in c:\\users\\acer\\anaconda3\\lib\\site-packages (from matplotlib->wordcloud) (2.8.2)\n",
      "Requirement already satisfied: six>=1.5 in c:\\users\\acer\\anaconda3\\lib\\site-packages (from python-dateutil>=2.7->matplotlib->wordcloud) (1.16.0)\n",
      "Downloading wordcloud-1.9.4-cp311-cp311-win_amd64.whl (299 kB)\n",
      "   ---------------------------------------- 0.0/299.9 kB ? eta -:--:--\n",
      "   --- ----------------------------------- 30.7/299.9 kB 660.6 kB/s eta 0:00:01\n",
      "   --- ----------------------------------- 30.7/299.9 kB 660.6 kB/s eta 0:00:01\n",
      "   ----- --------------------------------- 41.0/299.9 kB 281.8 kB/s eta 0:00:01\n",
      "   ----------- --------------------------- 92.2/299.9 kB 476.3 kB/s eta 0:00:01\n",
      "   ----------- --------------------------- 92.2/299.9 kB 476.3 kB/s eta 0:00:01\n",
      "   --------------- ---------------------- 122.9/299.9 kB 450.6 kB/s eta 0:00:01\n",
      "   ------------------------- ------------ 204.8/299.9 kB 621.6 kB/s eta 0:00:01\n",
      "   ---------------------------- --------- 225.3/299.9 kB 655.6 kB/s eta 0:00:01\n",
      "   -------------------------------------  297.0/299.9 kB 706.2 kB/s eta 0:00:01\n",
      "   -------------------------------------  297.0/299.9 kB 706.2 kB/s eta 0:00:01\n",
      "   -------------------------------------  297.0/299.9 kB 706.2 kB/s eta 0:00:01\n",
      "   -------------------------------------- 299.9/299.9 kB 561.4 kB/s eta 0:00:00\n",
      "Installing collected packages: wordcloud\n",
      "Successfully installed wordcloud-1.9.4\n"
     ]
    }
   ],
   "source": [
    "! pip install wordcloud"
   ]
  },
  {
   "cell_type": "code",
   "execution_count": null,
   "id": "dcd1df18",
   "metadata": {},
   "outputs": [],
   "source": [
    "from wordcloud import WordCloud\n",
    "\n",
    "# Combine text for each label\n",
    "fake_text = ' '.join(df[df['label'] == 1]['text'].dropna())\n",
    "real_text = ' '.join(df[df['label'] == 0]['text'].dropna())\n",
    "\n",
    "# Generate word clouds\n",
    "fake_wordcloud = WordCloud(width=800, height=400, background_color='black', colormap='Reds').generate(fake_text)\n",
    "real_wordcloud = WordCloud(width=800, height=400, background_color='black', colormap='Blues').generate(real_text)\n",
    "\n",
    "# Plot\n",
    "plt.figure(figsize=(14, 7))\n",
    "plt.subplot(1, 2, 1)\n",
    "plt.imshow(fake_wordcloud, interpolation='bilinear')\n",
    "plt.title('Fake News Word Cloud')\n",
    "plt.axis('off')\n",
    "\n",
    "plt.subplot(1, 2, 2)\n",
    "plt.imshow(real_wordcloud, interpolation='bilinear')\n",
    "plt.title('Real News Word Cloud')\n",
    "plt.axis('off')\n",
    "\n",
    "plt.show()"
   ]
  },
  {
   "cell_type": "markdown",
   "id": "45f189c2",
   "metadata": {},
   "source": [
    "#### Data Pre-processing"
   ]
  },
  {
   "cell_type": "code",
   "execution_count": 17,
   "id": "ae8b1d21",
   "metadata": {},
   "outputs": [
    {
     "data": {
      "text/plain": [
       "Unnamed: 0       0\n",
       "title          558\n",
       "text            39\n",
       "label            0\n",
       "text_length      0\n",
       "dtype: int64"
      ]
     },
     "execution_count": 17,
     "metadata": {},
     "output_type": "execute_result"
    }
   ],
   "source": [
    "# counting the number of missing values in the dataset\n",
    "df.isnull().sum()"
   ]
  },
  {
   "cell_type": "code",
   "execution_count": 18,
   "id": "79d323cb",
   "metadata": {},
   "outputs": [],
   "source": [
    "# replacing the null values with empty string\n",
    "df = df.fillna('')"
   ]
  },
  {
   "cell_type": "code",
   "execution_count": 19,
   "id": "a649d895",
   "metadata": {},
   "outputs": [],
   "source": [
    "# separating the data & label\n",
    "X = df.drop(columns='label', axis=1)\n",
    "Y = df['label']"
   ]
  },
  {
   "cell_type": "code",
   "execution_count": 20,
   "id": "a01fe1e5",
   "metadata": {},
   "outputs": [
    {
     "name": "stdout",
     "output_type": "stream",
     "text": [
      "       Unnamed: 0                                              title  \\\n",
      "0               0  LAW ENFORCEMENT ON HIGH ALERT Following Threat...   \n",
      "1               1                                                      \n",
      "2               2  UNBELIEVABLE! OBAMA’S ATTORNEY GENERAL SAYS MO...   \n",
      "3               3  Bobby Jindal, raised Hindu, uses story of Chri...   \n",
      "4               4  SATAN 2: Russia unvelis an image of its terrif...   \n",
      "...           ...                                                ...   \n",
      "72129       72129  Russians steal research on Trump in hack of U....   \n",
      "72130       72130   WATCH: Giuliani Demands That Democrats Apolog...   \n",
      "72131       72131  Migrants Refuse To Leave Train At Refugee Camp...   \n",
      "72132       72132  Trump tussle gives unpopular Mexican leader mu...   \n",
      "72133       72133  Goldman Sachs Endorses Hillary Clinton For Pre...   \n",
      "\n",
      "                                                    text  text_length  \n",
      "0      No comment is expected from Barack Obama Membe...         5049  \n",
      "1         Did they post their votes for Hillary already?           46  \n",
      "2       Now, most of the demonstrators gathered last ...          216  \n",
      "3      A dozen politically active pastors came here f...         8010  \n",
      "4      The RS-28 Sarmat missile, dubbed Satan 2, will...         1916  \n",
      "...                                                  ...          ...  \n",
      "72129  WASHINGTON (Reuters) - Hackers believed to be ...         4788  \n",
      "72130  You know, because in fantasyland Republicans n...         3634  \n",
      "72131  Migrants Refuse To Leave Train At Refugee Camp...         2864  \n",
      "72132  MEXICO CITY (Reuters) - Donald Trump’s combati...         3374  \n",
      "72133  Goldman Sachs Endorses Hillary Clinton For Pre...         2712  \n",
      "\n",
      "[72134 rows x 4 columns]\n",
      "0        1\n",
      "1        1\n",
      "2        1\n",
      "3        0\n",
      "4        1\n",
      "        ..\n",
      "72129    0\n",
      "72130    1\n",
      "72131    0\n",
      "72132    0\n",
      "72133    1\n",
      "Name: label, Length: 72134, dtype: int64\n"
     ]
    }
   ],
   "source": [
    "print(X)\n",
    "print(Y)\n"
   ]
  },
  {
   "cell_type": "code",
   "execution_count": null,
   "id": "a76becf2",
   "metadata": {},
   "outputs": [],
   "source": []
  }
 ],
 "metadata": {
  "kernelspec": {
   "display_name": "Python 3 (ipykernel)",
   "language": "python",
   "name": "python3"
  },
  "language_info": {
   "codemirror_mode": {
    "name": "ipython",
    "version": 3
   },
   "file_extension": ".py",
   "mimetype": "text/x-python",
   "name": "python",
   "nbconvert_exporter": "python",
   "pygments_lexer": "ipython3",
   "version": "3.11.4"
  }
 },
 "nbformat": 4,
 "nbformat_minor": 5
}
